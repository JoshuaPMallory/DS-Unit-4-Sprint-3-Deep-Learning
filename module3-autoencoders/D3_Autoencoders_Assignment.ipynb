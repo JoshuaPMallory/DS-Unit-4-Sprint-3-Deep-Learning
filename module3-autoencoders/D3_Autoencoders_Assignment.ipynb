{
 "cells": [
  {
   "cell_type": "markdown",
   "metadata": {},
   "source": [
    "# Today's Assignment\n",
    "\n",
    "Read About the History of General Artificial Intelligence Research, the future of AGI, and modern AI safety concerns. Write down your thoughts in the form of two-three questions you would ask your classmates. Please review the following resources:\n",
    "\n",
    "• http://sitn.hms.harvard.edu/flash/2017/history-artificial-intelligence/\n",
    "\n",
    "• https://www.forbes.com/sites/cognitiveworld/2019/06/10/how-far-are-we-from-achieving-artificial-general-intelligence/#e8aa1876dc4d\n",
    "\n",
    "• https://www.informationweek.com/big-data/ai-machine-learning/humans-fascination-with-artificial-general-intelligence/a/d-id/1334885\n",
    "\n",
    "• https://www.cser.ac.uk/research/risks-from-artificial-intelligence/\n",
    "\n",
    "• https://www.vox.com/future-perfect/2019/1/9/18174081/fhi-govai-ai-safety-american-public-worried-ai-catastrophe\n",
    "\n",
    "• https://www.youtube.com/watch?v=JRuNA2eK7w0\n",
    "\n",
    "• https://www.youtube.com/watch?v=SGSOCuByo24 (This one is long FYI)\n",
    "\n",
    "Enjoy!  :coffee_parrot:\n"
   ]
  },
  {
   "cell_type": "code",
   "execution_count": null,
   "metadata": {},
   "outputs": [],
   "source": []
  }
 ],
 "metadata": {
  "kernelspec": {
   "display_name": "Python 3",
   "language": "python",
   "name": "python3"
  },
  "language_info": {
   "codemirror_mode": {
    "name": "ipython",
    "version": 3
   },
   "file_extension": ".py",
   "mimetype": "text/x-python",
   "name": "python",
   "nbconvert_exporter": "python",
   "pygments_lexer": "ipython3",
   "version": "3.7.5"
  }
 },
 "nbformat": 4,
 "nbformat_minor": 4
}
